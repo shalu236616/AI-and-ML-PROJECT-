{
  "nbformat": 4,
  "nbformat_minor": 0,
  "metadata": {
    "colab": {
      "provenance": [],
      "authorship_tag": "ABX9TyMvZhWIZLwzMW6d+o2FzAtH",
      "include_colab_link": true
    },
    "kernelspec": {
      "name": "python3",
      "display_name": "Python 3"
    },
    "language_info": {
      "name": "python"
    }
  },
  "cells": [
    {
      "cell_type": "markdown",
      "metadata": {
        "id": "view-in-github",
        "colab_type": "text"
      },
      "source": [
        "<a href=\"https://colab.research.google.com/github/shalu236616/AI-and-ML-PROJECT-/blob/main/modification_of_decision_tree_using_AdaBoost.ipynb\" target=\"_parent\"><img src=\"https://colab.research.google.com/assets/colab-badge.svg\" alt=\"Open In Colab\"/></a>"
      ]
    },
    {
      "cell_type": "markdown",
      "source": [
        "▶**Workflow Overview**\n",
        "\n",
        "♋**Step 1: Load and Explore Data**\n",
        "\n",
        "1- Load the dataset\n",
        "\n",
        "2- Check for missing values\n",
        "\n",
        "3-Understand the target column\n",
        "\n",
        "4-Encode categorical features"
      ],
      "metadata": {
        "id": "4dLT5bDFx7Pb"
      }
    },
    {
      "cell_type": "markdown",
      "source": [
        "♋**Step 2: Preprocess the Data**\n",
        "\n",
        "1-Feature/target separation\n",
        "\n",
        "2-Encode labels\n",
        "\n",
        "3-Normalize/scale data (especially for Logistic Regression)\n",
        "\n",
        "4-Train-test split"
      ],
      "metadata": {
        "id": "M7jARtgwFrpc"
      }
    },
    {
      "cell_type": "markdown",
      "source": [
        "♋**Step 3: Train Models**\n",
        "\n",
        "1-Train a Decision Tree classifier\n",
        "\n",
        "2-Train an AdaBoost classifier using Decision Trees as base estimator\n",
        "\n",
        "3-Train a Logistic Regression model"
      ],
      "metadata": {
        "id": "XLPO2ZNMGaYC"
      }
    },
    {
      "cell_type": "markdown",
      "source": [
        "♋**Step 4: Evaluate Models**\n",
        "\n",
        "1-Accuracy\n",
        "\n",
        "2-Confusion Matrix\n",
        "\n",
        "3-Precision, Recall, F1-Score"
      ],
      "metadata": {
        "id": "5r4MGybRHFFr"
      }
    },
    {
      "cell_type": "markdown",
      "source": [
        " ♋**Step 5: Compare Results**\n",
        "\n",
        "Compare all 3 models using accuracy and metrics"
      ],
      "metadata": {
        "id": "tuhfi5mgHcxs"
      }
    },
    {
      "cell_type": "code",
      "source": [
        "# Useful libraries\n",
        "import pandas as pd\n",
        "import numpy as np\n",
        "from sklearn.model_selection import train_test_split\n",
        "from sklearn.metrics import classification_report, accuracy_score\n",
        "from sklearn.preprocessing import StandardScaler, LabelEncoder\n",
        "import matplotlib.pyplot as plt\n",
        "import seaborn as sns"
      ],
      "metadata": {
        "id": "oMtHNWlwx9-H"
      },
      "execution_count": 91,
      "outputs": []
    },
    {
      "cell_type": "code",
      "source": [
        "# load data\n",
        "df = pd.read_csv('/content/cybersecurity_intrusion_data.csv')"
      ],
      "metadata": {
        "id": "cf4L7f70yG2q"
      },
      "execution_count": 92,
      "outputs": []
    },
    {
      "cell_type": "code",
      "source": [
        "# Display basic info\n",
        "df.info()\n",
        "print(df.isnull().sum())\n",
        "print(\"\\nTarget Variable Distribution:\")\n",
        "print(df['attack_detected'].value_counts())\n",
        "\n"
      ],
      "metadata": {
        "colab": {
          "base_uri": "https://localhost:8080/"
        },
        "id": "IfUbNIfvyTzH",
        "outputId": "6af05a5f-a6a1-4888-f182-1e4c12ec849e"
      },
      "execution_count": 93,
      "outputs": [
        {
          "output_type": "stream",
          "name": "stdout",
          "text": [
            "<class 'pandas.core.frame.DataFrame'>\n",
            "RangeIndex: 9537 entries, 0 to 9536\n",
            "Data columns (total 11 columns):\n",
            " #   Column               Non-Null Count  Dtype  \n",
            "---  ------               --------------  -----  \n",
            " 0   session_id           9537 non-null   object \n",
            " 1   network_packet_size  9537 non-null   int64  \n",
            " 2   protocol_type        9537 non-null   object \n",
            " 3   login_attempts       9537 non-null   int64  \n",
            " 4   session_duration     9537 non-null   float64\n",
            " 5   encryption_used      7571 non-null   object \n",
            " 6   ip_reputation_score  9537 non-null   float64\n",
            " 7   failed_logins        9537 non-null   int64  \n",
            " 8   browser_type         9537 non-null   object \n",
            " 9   unusual_time_access  9537 non-null   int64  \n",
            " 10  attack_detected      9537 non-null   int64  \n",
            "dtypes: float64(2), int64(5), object(4)\n",
            "memory usage: 819.7+ KB\n",
            "session_id                0\n",
            "network_packet_size       0\n",
            "protocol_type             0\n",
            "login_attempts            0\n",
            "session_duration          0\n",
            "encryption_used        1966\n",
            "ip_reputation_score       0\n",
            "failed_logins             0\n",
            "browser_type              0\n",
            "unusual_time_access       0\n",
            "attack_detected           0\n",
            "dtype: int64\n",
            "\n",
            "Target Variable Distribution:\n",
            "attack_detected\n",
            "0    5273\n",
            "1    4264\n",
            "Name: count, dtype: int64\n"
          ]
        }
      ]
    },
    {
      "cell_type": "code",
      "source": [
        "# Data Preprocessing\n",
        "from sklearn.model_selection import train_test_split\n",
        "from sklearn.preprocessing import StandardScaler\n",
        "df = df.drop(columns=['session_id'])\n",
        "\n",
        "#  One-Hot Encoding for categorical columns\n",
        "df = pd.get_dummies(df, columns=['protocol_type', 'encryption_used', 'browser_type'], drop_first=True)\n",
        "X = df.drop('attack_detected', axis=1)\n",
        "y = df['attack_detected']\n",
        "X_train, X_test, y_train, y_test = train_test_split(X, y, test_size=0.2, random_state=42)\n",
        "\n",
        "# Scale features for logistic regression\n",
        "scaler = StandardScaler()\n",
        "X_train_scaled = scaler.fit_transform(X_train)\n",
        "X_test_scaled = scaler.transform(X_test)\n"
      ],
      "metadata": {
        "id": "w5aeAGW3yw1I"
      },
      "execution_count": 94,
      "outputs": []
    },
    {
      "cell_type": "code",
      "source": [
        "# Train a Decision Tree Classifier\n",
        "from sklearn.tree import DecisionTreeClassifier\n",
        "from sklearn.metrics import accuracy_score, classification_report\n",
        "\n",
        "# Decision Tree Model\n",
        "dt_model = DecisionTreeClassifier(random_state=42)\n",
        "dt_model.fit(X_train, y_train)\n",
        "\n",
        "# Predictions\n",
        "y_pred_dt = dt_model.predict(X_test)\n",
        "\n",
        "# Evaluation\n",
        "print(\" Decision Tree Accuracy:\", accuracy_score(y_test, y_pred_dt))\n",
        "print(classification_report(y_test, y_pred_dt))\n"
      ],
      "metadata": {
        "colab": {
          "base_uri": "https://localhost:8080/"
        },
        "id": "xB7gIRWj_CU-",
        "outputId": "7ce8ce49-1353-4620-9211-0cfc963040f1"
      },
      "execution_count": 95,
      "outputs": [
        {
          "output_type": "stream",
          "name": "stdout",
          "text": [
            " Decision Tree Accuracy: 0.8238993710691824\n",
            "              precision    recall  f1-score   support\n",
            "\n",
            "           0       0.84      0.83      0.84      1042\n",
            "           1       0.80      0.81      0.81       866\n",
            "\n",
            "    accuracy                           0.82      1908\n",
            "   macro avg       0.82      0.82      0.82      1908\n",
            "weighted avg       0.82      0.82      0.82      1908\n",
            "\n"
          ]
        }
      ]
    },
    {
      "cell_type": "code",
      "source": [
        "# AdaBoost with decision tree\n",
        "from sklearn.ensemble import AdaBoostClassifier\n",
        "from sklearn.tree import DecisionTreeClassifier\n",
        "# Define the model\n",
        "ada_model = AdaBoostClassifier(estimator=DecisionTreeClassifier(max_depth=1),learning_rate=0.1, n_estimators=1000,   random_state=42)\n",
        "\n",
        "\n",
        "\n",
        "# Train the model\n",
        "ada_model.fit(X_train, y_train)\n",
        "\n",
        "# Make predictions\n",
        "y_pred = ada_model.predict(X_test)\n",
        "ada_model.fit(X_train, y_train)\n",
        "\n",
        "# Calculate accuracy\n",
        "accuracy = accuracy_score(y_test, y_pred)\n",
        "print(f\"Accuracy: {accuracy * 100:.2f}%\")\n",
        "print(classification_report(y_test, y_pred))\n",
        "\n",
        "\n",
        "\n"
      ],
      "metadata": {
        "colab": {
          "base_uri": "https://localhost:8080/"
        },
        "id": "pWKW2JcE_fUf",
        "outputId": "6d5f390d-58aa-49c9-c1f5-bf89f8e4113e"
      },
      "execution_count": 96,
      "outputs": [
        {
          "output_type": "stream",
          "name": "stdout",
          "text": [
            "Accuracy: 86.79%\n",
            "              precision    recall  f1-score   support\n",
            "\n",
            "           0       0.81      1.00      0.89      1042\n",
            "           1       1.00      0.71      0.83       866\n",
            "\n",
            "    accuracy                           0.87      1908\n",
            "   macro avg       0.90      0.85      0.86      1908\n",
            "weighted avg       0.89      0.87      0.86      1908\n",
            "\n"
          ]
        }
      ]
    },
    {
      "cell_type": "code",
      "source": [
        "scores = cross_val_score(ada_model, X, y, cv=5, scoring='accuracy')\n",
        "print(\"Cross-Validation Accuracy Scores:\", scores)"
      ],
      "metadata": {
        "colab": {
          "base_uri": "https://localhost:8080/"
        },
        "id": "CGSFsx2oMCwI",
        "outputId": "7d347472-75a8-422e-a17c-a8fd1ea186dd"
      },
      "execution_count": 97,
      "outputs": [
        {
          "output_type": "stream",
          "name": "stdout",
          "text": [
            "Cross-Validation Accuracy Scores: [0.87421384 0.86163522 0.87572103 0.87362349 0.87362349]\n"
          ]
        }
      ]
    },
    {
      "cell_type": "code",
      "source": [
        "# Train a Logistic Regression Model\n",
        "from sklearn.linear_model import LogisticRegression\n",
        "\n",
        "# Logistic Regression Model\n",
        "lr_model = LogisticRegression(max_iter=1000, random_state=42)\n",
        "lr_model.fit(X_train_scaled, y_train)\n",
        "\n",
        "# Predictions\n",
        "y_pred_lr = lr_model.predict(X_test_scaled)\n",
        "\n",
        "# Evaluation\n",
        "print(\"Logistic Regression Accuracy:\", accuracy_score(y_test, y_pred_lr))\n",
        "print(classification_report(y_test, y_pred_lr))\n"
      ],
      "metadata": {
        "colab": {
          "base_uri": "https://localhost:8080/"
        },
        "id": "08p1WVqGCpuu",
        "outputId": "ca63ee6b-ded9-4843-b76f-e47156f3de6f"
      },
      "execution_count": 98,
      "outputs": [
        {
          "output_type": "stream",
          "name": "stdout",
          "text": [
            "Logistic Regression Accuracy: 0.7468553459119497\n",
            "              precision    recall  f1-score   support\n",
            "\n",
            "           0       0.75      0.81      0.78      1042\n",
            "           1       0.75      0.67      0.71       866\n",
            "\n",
            "    accuracy                           0.75      1908\n",
            "   macro avg       0.75      0.74      0.74      1908\n",
            "weighted avg       0.75      0.75      0.75      1908\n",
            "\n"
          ]
        }
      ]
    },
    {
      "cell_type": "code",
      "source": [
        "# Compare All Three Models\n",
        "\n",
        "results = {\n",
        "    \"Decision Tree\": accuracy_score(y_test, y_pred_dt),\n",
        "    \"AdaBoost\": accuracy_score(y_test, y_pred),\n",
        "    \"Logistic Regression\": accuracy_score(y_test, y_pred_lr)\n",
        "}\n",
        "\n",
        "# Display in sorted order\n",
        "for model, acc in sorted(results.items(), key=lambda x: x[1], reverse=True):\n",
        "    print(f\"{model}: {acc:.4f}\")\n"
      ],
      "metadata": {
        "colab": {
          "base_uri": "https://localhost:8080/"
        },
        "id": "BbuTJecTDFMP",
        "outputId": "b1b6f199-0f73-4d5c-a0dd-1c2a8c288850"
      },
      "execution_count": 99,
      "outputs": [
        {
          "output_type": "stream",
          "name": "stdout",
          "text": [
            "AdaBoost: 0.8679\n",
            "Decision Tree: 0.8239\n",
            "Logistic Regression: 0.7469\n"
          ]
        }
      ]
    }
  ]
}