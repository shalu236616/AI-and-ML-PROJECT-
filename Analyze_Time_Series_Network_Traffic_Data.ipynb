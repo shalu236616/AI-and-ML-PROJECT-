{
  "nbformat": 4,
  "nbformat_minor": 0,
  "metadata": {
    "colab": {
      "provenance": [],
      "authorship_tag": "ABX9TyNXXmgobmaXwH2Ngy2r+mJM",
      "include_colab_link": true
    },
    "kernelspec": {
      "name": "python3",
      "display_name": "Python 3"
    },
    "language_info": {
      "name": "python"
    }
  },
  "cells": [
    {
      "cell_type": "markdown",
      "metadata": {
        "id": "view-in-github",
        "colab_type": "text"
      },
      "source": [
        "<a href=\"https://colab.research.google.com/github/shalu236616/AI-and-ML-PROJECT-/blob/main/Analyze_Time_Series_Network_Traffic_Data.ipynb\" target=\"_parent\"><img src=\"https://colab.research.google.com/assets/colab-badge.svg\" alt=\"Open In Colab\"/></a>"
      ]
    },
    {
      "cell_type": "markdown",
      "source": [
        "❤ **Workflow Summary**\n",
        "\n",
        "Data Loading & Preprocessing\n",
        "\n",
        "Load the dataset (time_series_network_traffic.csv).\n",
        "\n",
        "\n",
        "\n",
        "\n",
        "\n"
      ],
      "metadata": {
        "id": "IepfI73doa9V"
      }
    },
    {
      "cell_type": "markdown",
      "source": [
        "❤ **Set Timestamp as the index and convert it to datetime.**\n",
        "\n",
        "Create a new column Interval for 6-hour time grouping."
      ],
      "metadata": {
        "id": "iIGa4FOvo_rw"
      }
    },
    {
      "cell_type": "markdown",
      "source": [
        "❤ **IP Address Analysis**\n",
        "\n",
        "Group by Source_IP and count requests\n",
        "\n",
        "Find the maximum number of requests from any single source IP"
      ],
      "metadata": {
        "id": "rbZVPyELo6up"
      }
    },
    {
      "cell_type": "markdown",
      "source": [
        "❤ **Feature Engineering (Time-Based Features)**\n",
        "\n",
        "Extract:\n",
        "\n",
        "year, month, day\n",
        "\n",
        "hour, minute, second"
      ],
      "metadata": {
        "id": "QsOTqIl-pXWN"
      }
    },
    {
      "cell_type": "markdown",
      "source": [
        "❤ **Visualization (Hourly Traffic Analysis)**\n",
        "\n",
        "Group Data_Size_MB by hour and sum."
      ],
      "metadata": {
        "id": "YoU1JnOKp6Z4"
      }
    },
    {
      "cell_type": "markdown",
      "source": [
        "❤ **Plot using sns.barplot()**"
      ],
      "metadata": {
        "id": "VyrucNsSqN7m"
      }
    },
    {
      "cell_type": "code",
      "source": [
        "import pandas as  pd\n",
        "import numpy as np\n",
        "import matplotlib.pyplot as plt\n",
        "import seaborn as sns\n",
        "import warnings\n",
        "warnings.filterwarnings('ignore')"
      ],
      "metadata": {
        "id": "smyJZWkToerx"
      },
      "execution_count": null,
      "outputs": []
    },
    {
      "cell_type": "code",
      "source": [
        "# load dataset\n",
        "df = pd.read_csv('/content/time_series_network_traffic.csv')"
      ],
      "metadata": {
        "id": "gxZbyXA1urrR"
      },
      "execution_count": null,
      "outputs": []
    },
    {
      "cell_type": "code",
      "source": [
        "print(df.head())"
      ],
      "metadata": {
        "colab": {
          "base_uri": "https://localhost:8080/"
        },
        "id": "YrWOKcpfu8gV",
        "outputId": "7abd30ce-bba4-4eb6-a31c-bf04233f598d"
      },
      "execution_count": null,
      "outputs": [
        {
          "output_type": "stream",
          "name": "stdout",
          "text": [
            "             Timestamp        Source_IP   Destination_IP  Data_Size_MB\n",
            "0  2024-03-10 10:00:00  168.213.163.186   188.101.21.199          2.87\n",
            "1  2024-03-10 10:05:00      53.23.143.9   218.161.185.44          7.56\n",
            "2  2024-03-10 10:10:00      81.14.58.67    217.91.219.10          0.28\n",
            "3  2024-03-10 10:15:00    5.191.175.101  229.245.189.152          9.45\n",
            "4  2024-03-10 10:20:00    128.187.99.89   234.201.106.81          8.51\n"
          ]
        }
      ]
    },
    {
      "cell_type": "code",
      "source": [
        "df.info()"
      ],
      "metadata": {
        "colab": {
          "base_uri": "https://localhost:8080/"
        },
        "id": "hjfI7MQ1vLcD",
        "outputId": "59c595ad-2c60-4a71-a3dd-331f3baf3233"
      },
      "execution_count": null,
      "outputs": [
        {
          "output_type": "stream",
          "name": "stdout",
          "text": [
            "<class 'pandas.core.frame.DataFrame'>\n",
            "RangeIndex: 1000 entries, 0 to 999\n",
            "Data columns (total 4 columns):\n",
            " #   Column          Non-Null Count  Dtype  \n",
            "---  ------          --------------  -----  \n",
            " 0   Timestamp       1000 non-null   object \n",
            " 1   Source_IP       1000 non-null   object \n",
            " 2   Destination_IP  1000 non-null   object \n",
            " 3   Data_Size_MB    1000 non-null   float64\n",
            "dtypes: float64(1), object(3)\n",
            "memory usage: 31.4+ KB\n"
          ]
        }
      ]
    },
    {
      "cell_type": "code",
      "source": [
        "df.isnull().sum()"
      ],
      "metadata": {
        "colab": {
          "base_uri": "https://localhost:8080/",
          "height": 210
        },
        "id": "clNyPTdYZegp",
        "outputId": "620cf32e-f759-419d-c7fa-5acd6c733f6a"
      },
      "execution_count": null,
      "outputs": [
        {
          "output_type": "execute_result",
          "data": {
            "text/plain": [
              "Timestamp         0\n",
              "Source_IP         0\n",
              "Destination_IP    0\n",
              "Data_Size_MB      0\n",
              "dtype: int64"
            ],
            "text/html": [
              "<div>\n",
              "<style scoped>\n",
              "    .dataframe tbody tr th:only-of-type {\n",
              "        vertical-align: middle;\n",
              "    }\n",
              "\n",
              "    .dataframe tbody tr th {\n",
              "        vertical-align: top;\n",
              "    }\n",
              "\n",
              "    .dataframe thead th {\n",
              "        text-align: right;\n",
              "    }\n",
              "</style>\n",
              "<table border=\"1\" class=\"dataframe\">\n",
              "  <thead>\n",
              "    <tr style=\"text-align: right;\">\n",
              "      <th></th>\n",
              "      <th>0</th>\n",
              "    </tr>\n",
              "  </thead>\n",
              "  <tbody>\n",
              "    <tr>\n",
              "      <th>Timestamp</th>\n",
              "      <td>0</td>\n",
              "    </tr>\n",
              "    <tr>\n",
              "      <th>Source_IP</th>\n",
              "      <td>0</td>\n",
              "    </tr>\n",
              "    <tr>\n",
              "      <th>Destination_IP</th>\n",
              "      <td>0</td>\n",
              "    </tr>\n",
              "    <tr>\n",
              "      <th>Data_Size_MB</th>\n",
              "      <td>0</td>\n",
              "    </tr>\n",
              "  </tbody>\n",
              "</table>\n",
              "</div><br><label><b>dtype:</b> int64</label>"
            ]
          },
          "metadata": {},
          "execution_count": 65
        }
      ]
    },
    {
      "cell_type": "code",
      "source": [
        "print(df.columns)"
      ],
      "metadata": {
        "colab": {
          "base_uri": "https://localhost:8080/"
        },
        "id": "hOUQOpdbtFJH",
        "outputId": "429e5eac-2f23-435e-d8b2-e27af9788ea5"
      },
      "execution_count": null,
      "outputs": [
        {
          "output_type": "stream",
          "name": "stdout",
          "text": [
            "Index(['Timestamp', 'Source_IP', 'Destination_IP', 'Data_Size_MB'], dtype='object')\n"
          ]
        }
      ]
    },
    {
      "cell_type": "code",
      "source": [
        "\n",
        "# Ensure Timestamp is a datetime object and set it as the index\n",
        "df.set_index('Timestamp', inplace=True)\n",
        "df.index = pd.to_datetime(df.index)\n",
        "# Create a new column for 6-hour intervals\n",
        "df['Interval'] = df.index.floor('6H')\n",
        "# Group by 6-hour intervals\n",
        "interval_groups = df.groupby('Interval')\n",
        "\n",
        "\n",
        "\n"
      ],
      "metadata": {
        "id": "09Rf0FlXyCTa"
      },
      "execution_count": null,
      "outputs": []
    },
    {
      "cell_type": "code",
      "source": [
        "# cheak maximum no of request from all sources for source ip address and destination ip address\n",
        "ip_pair_counts = df.groupby([\"Source_IP\"]).size()\n",
        "max_requests = ip_pair_counts.max()\n",
        "max_request_pairs = ip_pair_counts[ip_pair_counts == max_requests]\n",
        "print(f\"Maximum number of requests: {max_requests}\")\n",
        "print(\"IP pairs with maximum requests:\")\n",
        "print(max_request_pairs)"
      ],
      "metadata": {
        "colab": {
          "base_uri": "https://localhost:8080/"
        },
        "id": "Yl8HW-z617DT",
        "outputId": "0b1da434-2a0a-45cd-ba27-bbe3a21b471d"
      },
      "execution_count": null,
      "outputs": [
        {
          "output_type": "stream",
          "name": "stdout",
          "text": [
            "Maximum number of requests: 1\n",
            "IP pairs with maximum requests:\n",
            "Source_IP\n",
            "1.153.214.245     1\n",
            "1.224.138.212     1\n",
            "10.103.208.104    1\n",
            "10.107.210.88     1\n",
            "10.236.55.244     1\n",
            "                 ..\n",
            "98.96.158.216     1\n",
            "98.99.210.232     1\n",
            "99.156.115.189    1\n",
            "99.31.216.85      1\n",
            "99.99.27.26       1\n",
            "Length: 1000, dtype: int64\n"
          ]
        }
      ]
    },
    {
      "cell_type": "code",
      "source": [
        "# extract time feature\n",
        "df['Timestamp']=df.index\n",
        "df['Timestamp']=pd.to_datetime(df['Timestamp'])\n",
        "df['year'] = df['Timestamp'].dt.year\n",
        "df['month'] = df['Timestamp'].dt.month\n",
        "df['day'] = df['Timestamp'].dt.day\n",
        "df['hour'] = df['Timestamp'].dt.hour\n",
        "df['minute'] = df['Timestamp'].dt.minute\n",
        "df['second'] = df['Timestamp'].dt.second\n",
        "df['dayofweek'] = df['Timestamp'].dt.dayofweek\n",
        "print(df.head())\n"
      ],
      "metadata": {
        "id": "IbHRcqqU6aLv",
        "colab": {
          "base_uri": "https://localhost:8080/"
        },
        "outputId": "8aa763df-ec20-4ba3-c720-951e447165ed"
      },
      "execution_count": null,
      "outputs": [
        {
          "output_type": "stream",
          "name": "stdout",
          "text": [
            "                           Source_IP   Destination_IP  Data_Size_MB  \\\n",
            "Timestamp                                                             \n",
            "2024-03-10 10:00:00  168.213.163.186   188.101.21.199          2.87   \n",
            "2024-03-10 10:05:00      53.23.143.9   218.161.185.44          7.56   \n",
            "2024-03-10 10:10:00      81.14.58.67    217.91.219.10          0.28   \n",
            "2024-03-10 10:15:00    5.191.175.101  229.245.189.152          9.45   \n",
            "2024-03-10 10:20:00    128.187.99.89   234.201.106.81          8.51   \n",
            "\n",
            "                               Interval           Timestamp  year  month  day  \\\n",
            "Timestamp                                                                       \n",
            "2024-03-10 10:00:00 2024-03-10 06:00:00 2024-03-10 10:00:00  2024      3   10   \n",
            "2024-03-10 10:05:00 2024-03-10 06:00:00 2024-03-10 10:05:00  2024      3   10   \n",
            "2024-03-10 10:10:00 2024-03-10 06:00:00 2024-03-10 10:10:00  2024      3   10   \n",
            "2024-03-10 10:15:00 2024-03-10 06:00:00 2024-03-10 10:15:00  2024      3   10   \n",
            "2024-03-10 10:20:00 2024-03-10 06:00:00 2024-03-10 10:20:00  2024      3   10   \n",
            "\n",
            "                     hour  minute  second  dayofweek  \n",
            "Timestamp                                             \n",
            "2024-03-10 10:00:00    10       0       0          6  \n",
            "2024-03-10 10:05:00    10       5       0          6  \n",
            "2024-03-10 10:10:00    10      10       0          6  \n",
            "2024-03-10 10:15:00    10      15       0          6  \n",
            "2024-03-10 10:20:00    10      20       0          6  \n"
          ]
        }
      ]
    },
    {
      "cell_type": "code",
      "source": [
        "hourly_packet_length = df.groupby('hour')['Data_Size_MB'].sum().reset_index()\n",
        "# plot the data\n",
        "plt.figure(figsize=(12, 6))\n",
        "sns.barplot(x='hour', y='Data_Size_MB', data=hourly_packet_length)\n",
        "plt.title('Hourly Packet Length')\n",
        "plt.xlabel('Hour')\n",
        "plt.ylabel('Packet Length (MB)')\n",
        "plt.show()"
      ],
      "metadata": {
        "colab": {
          "base_uri": "https://localhost:8080/",
          "height": 564
        },
        "id": "fQ3ICoehXgDZ",
        "outputId": "63b3b430-d28c-4ff3-b1dd-8e2405e33d4f"
      },
      "execution_count": null,
      "outputs": [
        {
          "output_type": "display_data",
          "data": {
            "text/plain": [
              "<Figure size 1200x600 with 1 Axes>"
            ],
            "image/png": "[encoded data removed]"
          },
          "metadata": {}
        }
      ]
    }
  ]
}